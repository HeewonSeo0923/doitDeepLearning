{
 "cells": [
  {
   "cell_type": "markdown",
   "id": "f07e53c8",
   "metadata": {},
   "source": [
    "# 03-1 선형 회귀에 대해 알아보고 데이터를 준비"
   ]
  },
  {
   "cell_type": "markdown",
   "id": "91515b92",
   "metadata": {},
   "source": [
    "## 1차 함수로 이해하는 선형 회귀"
   ]
  },
  {
   "cell_type": "markdown",
   "id": "76b1ee43",
   "metadata": {},
   "source": [
    "## 문제 해결을 위해 당뇨병 환자의 데이터 준비하기"
   ]
  },
  {
   "cell_type": "markdown",
   "id": "3a5006ae",
   "metadata": {},
   "source": [
    "### 사이런킷에서 당뇨병 환자 데이터 가져오기"
   ]
  },
  {
   "cell_type": "markdown",
   "id": "50b4ade0",
   "metadata": {},
   "source": [
    "#### 1. load_diabetes( )함수로 당뇨병 데이터 준비하기"
   ]
  },
  {
   "cell_type": "code",
   "execution_count": 1,
   "id": "eaa8c796",
   "metadata": {},
   "outputs": [],
   "source": [
    "from sklearn.datasets import load_diabetes\n",
    "diabetes = load_diabetes( )"
   ]
  },
  {
   "cell_type": "markdown",
   "id": "475a1d4c",
   "metadata": {},
   "source": [
    "#### 2. 입력과 타깃 데이터의 크기 확인하기"
   ]
  },
  {
   "cell_type": "code",
   "execution_count": 3,
   "id": "b204790d",
   "metadata": {},
   "outputs": [
    {
     "name": "stdout",
     "output_type": "stream",
     "text": [
      "(442, 10) (442,)\n"
     ]
    }
   ],
   "source": [
    "print(diabetes.data.shape, diabetes.target.shape)"
   ]
  },
  {
   "cell_type": "markdown",
   "id": "c084e9f3",
   "metadata": {},
   "source": [
    "#### 3. 입력 데이터 자세히 보기"
   ]
  },
  {
   "cell_type": "code",
   "execution_count": 4,
   "id": "6f11bece",
   "metadata": {},
   "outputs": [
    {
     "data": {
      "text/plain": [
       "array([[ 0.03807591,  0.05068012,  0.06169621,  0.02187235, -0.0442235 ,\n",
       "        -0.03482076, -0.04340085, -0.00259226,  0.01990842, -0.01764613],\n",
       "       [-0.00188202, -0.04464164, -0.05147406, -0.02632783, -0.00844872,\n",
       "        -0.01916334,  0.07441156, -0.03949338, -0.06832974, -0.09220405],\n",
       "       [ 0.08529891,  0.05068012,  0.04445121, -0.00567061, -0.04559945,\n",
       "        -0.03419447, -0.03235593, -0.00259226,  0.00286377, -0.02593034]])"
      ]
     },
     "execution_count": 4,
     "metadata": {},
     "output_type": "execute_result"
    }
   ],
   "source": [
    "diabetes.data[0:3]"
   ]
  },
  {
   "cell_type": "markdown",
   "id": "31cb74fe",
   "metadata": {},
   "source": [
    "#### 4. 타겟 데이터 자세히 보기"
   ]
  },
  {
   "cell_type": "code",
   "execution_count": 5,
   "id": "4235b688",
   "metadata": {},
   "outputs": [
    {
     "data": {
      "text/plain": [
       "array([151.,  75., 141.])"
      ]
     },
     "execution_count": 5,
     "metadata": {},
     "output_type": "execute_result"
    }
   ],
   "source": [
    "diabetes.target[:3]"
   ]
  },
  {
   "cell_type": "code",
   "execution_count": null,
   "id": "ad67778c",
   "metadata": {},
   "outputs": [],
   "source": []
  }
 ],
 "metadata": {
  "kernelspec": {
   "display_name": "Python 3 (ipykernel)",
   "language": "python",
   "name": "python3"
  },
  "language_info": {
   "codemirror_mode": {
    "name": "ipython",
    "version": 3
   },
   "file_extension": ".py",
   "mimetype": "text/x-python",
   "name": "python",
   "nbconvert_exporter": "python",
   "pygments_lexer": "ipython3",
   "version": "3.9.12"
  }
 },
 "nbformat": 4,
 "nbformat_minor": 5
}
