{
 "cells": [
  {
   "cell_type": "markdown",
   "id": "93ec3d30",
   "metadata": {
    "pycharm": {
     "name": "#%% md\n"
    }
   },
   "source": [
    "# 02-2 딥러닝을 위한 도구들을 알아봅시다"
   ]
  },
  {
   "cell_type": "markdown",
   "id": "90ddb53b",
   "metadata": {
    "pycharm": {
     "name": "#%% md\n"
    }
   },
   "source": [
    "## 넘파이를 소개합니다"
   ]
  },
  {
   "cell_type": "markdown",
   "id": "6ef10b61",
   "metadata": {
    "pycharm": {
     "name": "#%% md\n"
    }
   },
   "source": [
    "### 파이썬 리스트 복습"
   ]
  },
  {
   "cell_type": "code",
   "execution_count": null,
   "id": "0583a00b",
   "metadata": {
    "pycharm": {
     "name": "#%%\n",
     "is_executing": true
    }
   },
   "outputs": [],
   "source": [
    "my_list = [10, 'hello list', 20]\n",
    "print(my_list[1])"
   ]
  },
  {
   "cell_type": "code",
   "execution_count": 2,
   "id": "a03f3cbe",
   "metadata": {
    "pycharm": {
     "name": "#%%\n"
    }
   },
   "outputs": [],
   "source": [
    "my_list_2 = [[10, 20, 30], [40, 50, 60]]"
   ]
  },
  {
   "cell_type": "code",
   "execution_count": 3,
   "id": "56aafa73",
   "metadata": {
    "pycharm": {
     "name": "#%%\n"
    }
   },
   "outputs": [
    {
     "name": "stdout",
     "output_type": "stream",
     "text": [
      "50\n"
     ]
    }
   ],
   "source": [
    "print(my_list_2[1][1])"
   ]
  },
  {
   "cell_type": "markdown",
   "id": "785166ad",
   "metadata": {
    "pycharm": {
     "name": "#%% md\n"
    }
   },
   "source": [
    "### 넘파이 준비하기"
   ]
  },
  {
   "cell_type": "markdown",
   "id": "cc0016f6",
   "metadata": {
    "pycharm": {
     "name": "#%% md\n"
    }
   },
   "source": [
    "#### 1. 넘파이 임포트하고 버전 확인"
   ]
  },
  {
   "cell_type": "code",
   "execution_count": 4,
   "id": "ee4babfa",
   "metadata": {
    "pycharm": {
     "name": "#%%\n"
    }
   },
   "outputs": [
    {
     "name": "stdout",
     "output_type": "stream",
     "text": [
      "1.21.5\n"
     ]
    }
   ],
   "source": [
    "import numpy as np\n",
    "print(np.__version__)"
   ]
  },
  {
   "cell_type": "markdown",
   "id": "c71dc9fe",
   "metadata": {
    "pycharm": {
     "name": "#%% md\n"
    }
   },
   "source": [
    "### 넘파이로 배열 만들기"
   ]
  },
  {
   "cell_type": "markdown",
   "id": "0f06f92b",
   "metadata": {
    "pycharm": {
     "name": "#%% md\n"
    }
   },
   "source": [
    "#### 1. array( )함수로 2차원 배열 만들기"
   ]
  },
  {
   "cell_type": "code",
   "execution_count": 5,
   "id": "b66d127d",
   "metadata": {
    "pycharm": {
     "name": "#%%\n"
    }
   },
   "outputs": [
    {
     "name": "stdout",
     "output_type": "stream",
     "text": [
      "[[10 20 30]\n",
      " [40 50 60]]\n"
     ]
    }
   ],
   "source": [
    "my_arr = np.array([[10, 20, 30], [40, 50, 60]])\n",
    "print(my_arr)"
   ]
  },
  {
   "cell_type": "markdown",
   "id": "830c8017",
   "metadata": {
    "pycharm": {
     "name": "#%% md\n"
    }
   },
   "source": [
    "#### 2. type( )함수로 넘파이 배열인지 확인하기"
   ]
  },
  {
   "cell_type": "code",
   "execution_count": 6,
   "id": "51a4c3b0",
   "metadata": {
    "pycharm": {
     "name": "#%%\n"
    }
   },
   "outputs": [
    {
     "data": {
      "text/plain": [
       "numpy.ndarray"
      ]
     },
     "execution_count": 6,
     "metadata": {},
     "output_type": "execute_result"
    }
   ],
   "source": [
    "type(my_arr)"
   ]
  },
  {
   "cell_type": "markdown",
   "id": "19e6abac",
   "metadata": {
    "pycharm": {
     "name": "#%% md\n"
    }
   },
   "source": [
    "#### 3. 넘파이 배열에서 요소 선택하기"
   ]
  },
  {
   "cell_type": "code",
   "execution_count": 7,
   "id": "df7e0d16",
   "metadata": {
    "pycharm": {
     "name": "#%%\n"
    }
   },
   "outputs": [
    {
     "data": {
      "text/plain": [
       "30"
      ]
     },
     "execution_count": 7,
     "metadata": {},
     "output_type": "execute_result"
    }
   ],
   "source": [
    "my_arr[0][2]"
   ]
  },
  {
   "cell_type": "markdown",
   "id": "f3e45e85",
   "metadata": {
    "pycharm": {
     "name": "#%% md\n"
    }
   },
   "source": [
    "#### 4. 넘파이 내장 함수 사용하기"
   ]
  },
  {
   "cell_type": "code",
   "execution_count": 8,
   "id": "716a5549",
   "metadata": {
    "pycharm": {
     "name": "#%%\n"
    }
   },
   "outputs": [
    {
     "data": {
      "text/plain": [
       "210"
      ]
     },
     "execution_count": 8,
     "metadata": {},
     "output_type": "execute_result"
    }
   ],
   "source": [
    "np.sum(my_arr)"
   ]
  },
  {
   "cell_type": "markdown",
   "id": "bcb1ab58",
   "metadata": {
    "pycharm": {
     "name": "#%% md\n"
    }
   },
   "source": [
    "### 맷플롯립으로 그래프 그리기"
   ]
  },
  {
   "cell_type": "code",
   "execution_count": 9,
   "id": "3dd08132",
   "metadata": {
    "pycharm": {
     "name": "#%%\n"
    }
   },
   "outputs": [],
   "source": [
    "import matplotlib.pyplot as plt"
   ]
  },
  {
   "cell_type": "markdown",
   "id": "527554c4",
   "metadata": {
    "pycharm": {
     "name": "#%% md\n"
    }
   },
   "source": [
    "#### 1. 선 그래프 그리기"
   ]
  },
  {
   "cell_type": "code",
   "execution_count": 10,
   "id": "c55a627e",
   "metadata": {
    "pycharm": {
     "name": "#%%\n"
    }
   },
   "outputs": [
    {
     "data": {
      "image/png": "[encoded data removed]",
      "text/plain": [
       "<Figure size 432x288 with 1 Axes>"
      ]
     },
     "metadata": {
      "needs_background": "light"
     },
     "output_type": "display_data"
    }
   ],
   "source": [
    "plt.plot([1, 2, 3, 4, 5], [1, 4, 9, 16, 25])\n",
    "plt.show()"
   ]
  },
  {
   "cell_type": "markdown",
   "id": "393af940",
   "metadata": {
    "pycharm": {
     "name": "#%% md\n"
    }
   },
   "source": [
    "#### 2. 산점도 그리기"
   ]
  },
  {
   "cell_type": "code",
   "execution_count": 11,
   "id": "7ae0ffca",
   "metadata": {
    "pycharm": {
     "name": "#%%\n"
    }
   },
   "outputs": [
    {
     "data": {
      "image/png": "[encoded data removed]",
      "text/plain": [
       "<Figure size 432x288 with 1 Axes>"
      ]
     },
     "metadata": {
      "needs_background": "light"
     },
     "output_type": "display_data"
    }
   ],
   "source": [
    "plt.scatter([1, 2, 3, 4, 5], [1, 4, 9, 16, 25])\n",
    "plt.show()"
   ]
  },
  {
   "cell_type": "markdown",
   "id": "7a5c7e80",
   "metadata": {
    "pycharm": {
     "name": "#%% md\n"
    }
   },
   "source": [
    "#### 3. 넘파이 배열 산점도 그리기"
   ]
  },
  {
   "cell_type": "code",
   "execution_count": 12,
   "id": "bf999937",
   "metadata": {
    "pycharm": {
     "name": "#%%\n"
    }
   },
   "outputs": [
    {
     "data": {
      "image/png": "[encoded data removed]",
      "text/plain": [
       "<Figure size 432x288 with 1 Axes>"
      ]
     },
     "metadata": {
      "needs_background": "light"
     },
     "output_type": "display_data"
    }
   ],
   "source": [
    "x = np.random.randn(1000)       # 표준 정규 분포를 따르는 난수 1000개를 만듭니다\n",
    "y = np.random.randn(1000)       # 표준 정규 분포를 따르는 난수 1000개를 만듭니다\n",
    "plt.scatter(x, y)\n",
    "plt.show()"
   ]
  }
 ],
 "metadata": {
  "kernelspec": {
   "display_name": "Python 3 (ipykernel)",
   "language": "python",
   "name": "python3"
  },
  "language_info": {
   "codemirror_mode": {
    "name": "ipython",
    "version": 3
   },
   "file_extension": ".py",
   "mimetype": "text/x-python",
   "name": "python",
   "nbconvert_exporter": "python",
   "pygments_lexer": "ipython3",
   "version": "3.9.12"
  }
 },
 "nbformat": 4,
 "nbformat_minor": 5
}